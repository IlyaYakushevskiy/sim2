{
 "cells": [
  {
   "cell_type": "code",
   "execution_count": 45,
   "metadata": {},
   "outputs": [
    {
     "name": "stdout",
     "output_type": "stream",
     "text": [
      "The autoreload extension is already loaded. To reload it, use:\n",
      "  %reload_ext autoreload\n"
     ]
    }
   ],
   "source": [
    "%load_ext autoreload\n",
    "%autoreload 2\n",
    "\n",
    "import numpy as np\n",
    "import matplotlib.pyplot as plt\n",
    "from simulation_modul import *\n",
    "rng = np.random.default_rng(42)"
   ]
  },
  {
   "cell_type": "code",
   "execution_count": 46,
   "metadata": {},
   "outputs": [
    {
     "name": "stdout",
     "output_type": "stream",
     "text": [
      "Warning: Tried to partition an empty cell, this should not happen.\n",
      "0 0\n",
      "Test successful\n"
     ]
    }
   ],
   "source": [
    "# Test 1 empty\n",
    "\n",
    "particles = np.array([])\n",
    "cell = Cell([0,0], [1,1], 0, 10)\n",
    "particles, cell, n_l, n_r = partitioning(particles, cell, 1)\n",
    "print(n_l, n_r)\n",
    "if (n_l == 0) and (n_r == 0):\n",
    "    print('Test successful')\n",
    "else:\n",
    "    print('Test failed')"
   ]
  },
  {
   "cell_type": "code",
   "execution_count": 47,
   "metadata": {},
   "outputs": [
    {
     "name": "stdout",
     "output_type": "stream",
     "text": [
      "0 100\n",
      "Test successful\n"
     ]
    }
   ],
   "source": [
    "# Test 2 all one side\n",
    "\n",
    "number_particles = 100\n",
    "particles = np.array([Particle([rng.uniform(low=0.6, high=1), rng.uniform(low=0.6, high=1)]) for i in range(number_particles)])\n",
    "cell = Cell([0,0], [1,1], 0, len(particles))\n",
    "particles, cell, n_l, n_r = partitioning(particles, cell, 1)\n",
    "print(n_l, n_r)\n",
    "if (n_l == 0) and (n_r == number_particles):\n",
    "    print('Test successful')\n",
    "else:\n",
    "    print('Test failed')"
   ]
  },
  {
   "cell_type": "code",
   "execution_count": 48,
   "metadata": {},
   "outputs": [
    {
     "name": "stdout",
     "output_type": "stream",
     "text": [
      "0 100\n",
      "Test successful\n"
     ]
    }
   ],
   "source": [
    "# Test 3 all one side other dimension\n",
    "\n",
    "number_particles = 100\n",
    "particles = np.array([Particle([rng.uniform(low=0.6, high=1), rng.uniform(low=0.6, high=1)]) for i in range(number_particles)])\n",
    "cell = Cell([0,0], [1,1], 0, len(particles))\n",
    "particles, cell, n_l, n_r = partitioning(particles, cell, 1)\n",
    "print(n_l, n_r)\n",
    "if (n_l == 0) and (n_r == number_particles):\n",
    "    print('Test successful')\n",
    "else:\n",
    "    print('Test failed')"
   ]
  },
  {
   "cell_type": "code",
   "execution_count": 49,
   "metadata": {},
   "outputs": [
    {
     "name": "stdout",
     "output_type": "stream",
     "text": [
      "5 15\n",
      "5 15\n",
      "Test successful\n"
     ]
    }
   ],
   "source": [
    "# Test 4 allready sorted\n",
    "\n",
    "number_particles = 20\n",
    "particles = np.array([Particle([rng.uniform(low=0, high=1), rng.uniform(low=0, high=1)]) for i in range(number_particles)])\n",
    "cell = Cell([0,0], [1,1], 0, len(particles))\n",
    "particles, cell, n_l, n_r = partitioning(particles, cell, 1)\n",
    "print(n_l, n_r)\n",
    "particles, cell, n_l2, n_r2 = partitioning(particles, cell, 1)\n",
    "print(n_l2, n_r2)\n",
    "if (n_l == n_l2) and (n_r == n_r2):\n",
    "    print('Test successful')\n",
    "else:\n",
    "    print('Test failed')"
   ]
  },
  {
   "cell_type": "code",
   "execution_count": 50,
   "metadata": {},
   "outputs": [
    {
     "name": "stdout",
     "output_type": "stream",
     "text": [
      "11 9\n",
      "11 9\n",
      "Test successful\n"
     ]
    }
   ],
   "source": [
    "# Test 5 inverted order\n",
    "\n",
    "number_particles = 20\n",
    "particles = np.array([Particle([rng.uniform(low=0, high=1), rng.uniform(low=0, high=1)]) for i in range(number_particles)])\n",
    "cell = Cell([0,0], [1,1], 0, len(particles))\n",
    "particles, cell, n_l, n_r = partitioning(particles, cell, 1)\n",
    "print(n_l, n_r)\n",
    "particles = np.flip(particles)\n",
    "particles, cell, n_l2, n_r2 = partitioning(particles, cell, 1)\n",
    "print(n_l2, n_r2)\n",
    "if (n_l == n_l2) and (n_r == n_r2):\n",
    "    print('Test successful')\n",
    "else:\n",
    "    print('Test failed')"
   ]
  }
 ],
 "metadata": {
  "kernelspec": {
   "display_name": ".venv",
   "language": "python",
   "name": "python3"
  },
  "language_info": {
   "codemirror_mode": {
    "name": "ipython",
    "version": 3
   },
   "file_extension": ".py",
   "mimetype": "text/x-python",
   "name": "python",
   "nbconvert_exporter": "python",
   "pygments_lexer": "ipython3",
   "version": "3.10.15"
  }
 },
 "nbformat": 4,
 "nbformat_minor": 2
}
